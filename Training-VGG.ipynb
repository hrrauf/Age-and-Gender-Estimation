{
 "cells": [
  {
   "cell_type": "code",
   "execution_count": null,
   "metadata": {},
   "outputs": [],
   "source": [
    "import scipy.io\n",
    "import numpy as np\n",
    "import pandas as pd\n",
    "from datetime import datetime, timedelta\n",
    "import tensorflow as tf\n",
    "from models.VGG_16 import VGG_16\n",
    "import keras\n",
    "from keras.preprocessing import image\n",
    "from keras.callbacks import ModelCheckpoint,EarlyStopping\n",
    "from keras.layers import Dense, Activation, Dropout, Flatten, Input, Convolution2D, ZeroPadding2D, MaxPooling2D, Activation\n",
    "from keras.layers import Conv2D, AveragePooling2D, Concatenate, Lambda\n",
    "from keras.models import Model, Sequential\n",
    "from sklearn.model_selection import train_test_split\n",
    "from keras.preprocessing.image import ImageDataGenerator\n",
    "from script.mixup_generator import MixupGenerator\n",
    "from script.random_eraser import get_random_eraser\n",
    "from keras import metrics\n",
    "from collections import defaultdict\n",
    "from keras.models import model_from_json\n",
    "import matplotlib.pyplot as plt\n",
    "import torch\n",
    "import cv2\n",
    "from sklearn.metrics import classification_report, confusion_matrix"
   ]
  },
  {
   "cell_type": "code",
   "execution_count": null,
   "metadata": {},
   "outputs": [],
   "source": [
    "keras.backend.clear_session()"
   ]
  },
  {
   "cell_type": "code",
   "execution_count": null,
   "metadata": {},
   "outputs": [],
   "source": [
    "classes = 101 #(0, 100])\n",
    "print(\"number of output classes: \",classes)"
   ]
  },
  {
   "cell_type": "code",
   "execution_count": null,
   "metadata": {},
   "outputs": [],
   "source": [
    "features=torch.load('./data/features.pt').numpy()\n",
    "target=torch.load('./data/age.pt').numpy()"
   ]
  },
  {
   "cell_type": "code",
   "execution_count": null,
   "metadata": {},
   "outputs": [],
   "source": [
    "target_classes = keras.utils.to_categorical(target, classes)"
   ]
  },
  {
   "cell_type": "code",
   "execution_count": null,
   "metadata": {},
   "outputs": [],
   "source": [
    "train_x, test_x, train_y, test_y = train_test_split(features, target_classes, test_size=0.30)"
   ]
  },
  {
   "cell_type": "code",
   "execution_count": null,
   "metadata": {},
   "outputs": [],
   "source": [
    "#delete extra data\n",
    "del features\n",
    "del target\n",
    "del target_classes"
   ]
  },
  {
   "cell_type": "markdown",
   "metadata": {},
   "source": [
    "## Training for Age"
   ]
  },
  {
   "cell_type": "code",
   "execution_count": null,
   "metadata": {},
   "outputs": [],
   "source": [
    "# Set data augmentation\n",
    "aug=False\n",
    "# set baseline\n",
    "baseline=True\n",
    "\n",
    "# Normalize data\n",
    "train_x/=255\n",
    "test_x/=255\n",
    "\n",
    "# Set epochs and batch_size\n",
    "epochs = 30\n",
    "batch_size = 256\n",
    "size_train=train_x.shape[0]\n",
    "\n",
    "age_model=VGG_16(101)(pretrained=True)\n",
    "\n",
    "if aug:\n",
    "    batch_size=32\n",
    "    datagen = ImageDataGenerator(\n",
    "            width_shift_range=0.1,\n",
    "            height_shift_range=0.1,\n",
    "            horizontal_flip=True,\n",
    "            preprocessing_function=get_random_eraser(v_l=0, v_h=255))\n",
    "    \n",
    "    training_generator = MixupGenerator(train_x, train_y, batch_size=batch_size, alpha=0.2,\n",
    "                                            datagen=datagen)()"
   ]
  },
  {
   "cell_type": "code",
   "execution_count": null,
   "metadata": {},
   "outputs": [],
   "source": [
    "sgd = keras.optimizers.SGD(lr=1e-3, decay=1e-6, momentum=0.9, nesterov=True)\n",
    "\n",
    "age_model.compile(loss='categorical_crossentropy'\n",
    "                  , optimizer=sgd\n",
    "                  , metrics=['accuracy']\n",
    "                 )"
   ]
  },
  {
   "cell_type": "code",
   "execution_count": null,
   "metadata": {
    "scrolled": false
   },
   "outputs": [],
   "source": [
    "enableFit = True\n",
    "\n",
    "if enableFit:\n",
    "    if aug:\n",
    "        score = age_model.fit_generator(generator=training_generator,\n",
    "                                   steps_per_epoch=size_train // batch_size,\n",
    "                                   validation_data=(test_x, test_y),\n",
    "                                   epochs=epochs, verbose=1)\n",
    "        pd.DataFrame.from_dict(score.history).to_csv('./outputs/baseline_age_aug.csv')\n",
    "\n",
    "        plt.plot(score.history['val_loss'], label='val_loss')\n",
    "        plt.plot(score.history['loss'], label='train_loss')\n",
    "        plt.legend(loc='upper right')\n",
    "        plt.ylim([2.5,5])\n",
    "        plt.savefig('baseline_age_aug.png')\n",
    "        plt.show()\n",
    "\n",
    "        \n",
    "    elif baseline:\n",
    "\n",
    "        scores=defaultdict(list)\n",
    "        score = age_model.fit(train_x, train_y, epochs=epochs, batch_size=batch_size, validation_data=(test_x, test_y))\n",
    "        model='_'\n",
    "        age_model.save_weights('./trained_models/baseline_age_'+model+'.h5')\n",
    "        pd.DataFrame.from_dict(scores).to_csv('./outputs/baseline_age_'+model+'.csv')\n",
    "\n",
    "        plt.plot(score.history['loss'], label='loss')\n",
    "        plt.plot(score.history['val_loss'], label='val_loss')\n",
    "        plt.legend(loc='upper right')   \n",
    "        plt.savefig('./outputs/baseline_age_'+model+'.png')\n",
    "        plt.show()\n",
    "\n",
    "else:\n",
    "    #pre-trained weights for age prediction: https://drive.google.com/file/d/1YCox_4kJ-BYeXq27uUbasu--yz28zUMV/view?usp=sharing\n",
    "    age_model.load_weights(\"./trained_models/age_model_weights.h5\")"
   ]
  },
  {
   "cell_type": "markdown",
   "metadata": {},
   "source": [
    "## Model Prediction for Age"
   ]
  },
  {
   "cell_type": "code",
   "execution_count": null,
   "metadata": {},
   "outputs": [],
   "source": [
    "predictions = age_model.predict(test_x)"
   ]
  },
  {
   "cell_type": "code",
   "execution_count": null,
   "metadata": {},
   "outputs": [],
   "source": [
    "output_indexes = np.array([i for i in range(0, 101)])\n",
    "apparent_predictions = np.sum(predictions * output_indexes, axis = 1)"
   ]
  },
  {
   "cell_type": "code",
   "execution_count": null,
   "metadata": {
    "scrolled": true
   },
   "outputs": [],
   "source": [
    "mae = 0\n",
    "actual_mean = 0\n",
    "\n",
    "for i in range(0 ,apparent_predictions.shape[0]):\n",
    "    prediction = int(apparent_predictions[i])\n",
    "    actual = np.argmax(test_y[i])\n",
    "    abs_error = abs(prediction - actual)\n",
    "    actual_mean = actual_mean + actual\n",
    "    mae = mae + abs_error\n",
    "    \n",
    "mae = mae / apparent_predictions.shape[0]\n",
    "\n",
    "print(\"mae: \",mae)\n",
    "print(\"instances: \",apparent_predictions.shape[0])"
   ]
  },
  {
   "cell_type": "markdown",
   "metadata": {},
   "source": [
    "## Training for Gender"
   ]
  },
  {
   "cell_type": "code",
   "execution_count": null,
   "metadata": {},
   "outputs": [],
   "source": [
    "features=torch.load('./data/features.pt').numpy()\n",
    "gender=torch.load('./data/gender.pt').numpy()\n",
    "gender_classes = keras.utils.to_categorical(gender, 2)"
   ]
  },
  {
   "cell_type": "code",
   "execution_count": null,
   "metadata": {},
   "outputs": [],
   "source": [
    "train_x, test_x, train_y, test_y = train_test_split(features, gender_classes, test_size=0.30)"
   ]
  },
  {
   "cell_type": "code",
   "execution_count": null,
   "metadata": {},
   "outputs": [],
   "source": [
    "del features\n",
    "del gender_classes"
   ]
  },
  {
   "cell_type": "code",
   "execution_count": null,
   "metadata": {},
   "outputs": [],
   "source": [
    "aug=False\n",
    "baseline=True\n",
    "\n",
    "train_x/=255\n",
    "test_x/=255\n",
    "\n",
    "epochs = 30\n",
    "batch_size = 256\n",
    "size_train=train_x.shape[0]\n",
    "\n",
    "gender_model=VGG_16(2)(pretrained=True)\n",
    "\n",
    "if aug:\n",
    "    batch_size=32\n",
    "    datagen = ImageDataGenerator(\n",
    "            width_shift_range=0.1,\n",
    "            height_shift_range=0.1,\n",
    "            horizontal_flip=True,\n",
    "            preprocessing_function=get_random_eraser(v_l=0, v_h=255))\n",
    "\n",
    "    training_generator = MixupGenerator(train_x, train_y, batch_size=batch_size, alpha=0.2,\n",
    "                                            datagen=datagen)()"
   ]
  },
  {
   "cell_type": "code",
   "execution_count": null,
   "metadata": {},
   "outputs": [],
   "source": [
    "sgd = keras.optimizers.SGD(lr=1e-3, decay=1e-6, momentum=0.9, nesterov=True)\n",
    "\n",
    "gender_model.compile(loss='categorical_crossentropy'\n",
    "                  , optimizer=keras.optimizers.Adam()\n",
    "                  #, optimizer = sgd\n",
    "                  , metrics=['accuracy']\n",
    "                 )"
   ]
  },
  {
   "cell_type": "code",
   "execution_count": null,
   "metadata": {
    "scrolled": true
   },
   "outputs": [],
   "source": [
    "enableFit = True\n",
    "\n",
    "if enableFit:\n",
    "    if aug:\n",
    "        score = gender_model.fit_generator(generator=training_generator,\n",
    "                               steps_per_epoch=size_train // batch_size,\n",
    "                               validation_data=(test_x, test_y),\n",
    "                               epochs=epochs, verbose=1)\n",
    "\n",
    "        pd.DataFrame.from_dict(score.history).to_csv('./outputs/baseline_gender_aug.csv')\n",
    "        plt.plot(score.history['val_loss'], label='val_loss')\n",
    "        plt.plot(score.history['loss'], label='train_loss')\n",
    "        plt.legend(loc='upper right')\n",
    "        plt.ylim([2.5,5])\n",
    "        plt.savefig('./outputs/baseline_gender_aug.png')\n",
    "        plt.show()\n",
    "        \n",
    "    elif baseline:\n",
    "        score = gender_model.fit(train_x, train_y, epochs=epochs, batch_size=batch_size, validation_data=(test_x, test_y))\n",
    "        model='_'\n",
    "        pd.DataFrame.from_dict(scores).to_csv('./outputs/baseline_gender_'+model+'.csv')\n",
    "        plt.plot(score.history['loss'], label='loss')\n",
    "        plt.plot(score.history['val_loss'], label='val_loss')\n",
    "        plt.legend(loc='upper right')   \n",
    "        plt.savefig('./outputs/baseline_gender_'+model+'.png')\n",
    "        plt.show()\n",
    "\n",
    "else:\n",
    "    #pre-trained weights for age prediction: https://drive.google.com/file/d/1YCox_4kJ-BYeXq27uUbasu--yz28zUMV/view?usp=sharing\n",
    "    age_model.load_weights(\"./trained_models/gender_model_weights.h5\")"
   ]
  },
  {
   "cell_type": "markdown",
   "metadata": {},
   "source": [
    "## Model Prediction for Gender"
   ]
  },
  {
   "cell_type": "code",
   "execution_count": null,
   "metadata": {},
   "outputs": [],
   "source": [
    "predictions = gender_model.predict(test_x)"
   ]
  },
  {
   "cell_type": "code",
   "execution_count": null,
   "metadata": {},
   "outputs": [],
   "source": [
    "pred_list = []; actual_list = []\n",
    "\n",
    "for i in predictions:\n",
    "    pred_list.append(np.argmax(i))\n",
    "\n",
    "for i in test_y: \n",
    "    actual_list.append(np.argmax(i))\n",
    "\n",
    "confusion_matrix(actual_list, pred_list)\n",
    "print(classification_report(actual_list, pred_list))"
   ]
  }
 ],
 "metadata": {
  "kernelspec": {
   "display_name": "Python 3",
   "language": "python",
   "name": "python3"
  },
  "language_info": {
   "codemirror_mode": {
    "name": "ipython",
    "version": 3
   },
   "file_extension": ".py",
   "mimetype": "text/x-python",
   "name": "python",
   "nbconvert_exporter": "python",
   "pygments_lexer": "ipython3",
   "version": "3.7.4"
  }
 },
 "nbformat": 4,
 "nbformat_minor": 2
}
