{
 "cells": [
  {
   "cell_type": "code",
   "execution_count": null,
   "metadata": {},
   "outputs": [],
   "source": [
    "import pandas as pd\n",
    "import matplotlib.pyplot as plt\n",
    "import numpy as np\n",
    "\n",
    "from keras.models import load_model\n",
    "import keras\n",
    "import pandas as pd\n",
    "import tensorflow as tf\n",
    "import numpy as np \n",
    "import matplotlib.pyplot as plt\n",
    "import os\n",
    "import random\n",
    "import pickle\n",
    "import seaborn as sns\n",
    "import timeit\n",
    "from sklearn.metrics import confusion_matrix\n",
    "import itertools \n"
   ]
  },
  {
   "cell_type": "code",
   "execution_count": null,
   "metadata": {},
   "outputs": [],
   "source": [
    "def plot_func(md_name, name,mixup=False):\n",
    "    baseline=pd.read_csv(md_name)\n",
    "    epochs=baseline.shape[0]\n",
    "\n",
    "    \n",
    "    if name=='Gender':\n",
    "        baseline['loss'][0]=1\n",
    "        plt.ylim([0,1])\n",
    "        plt.plot(np.arange(0,100,5), baseline['val_accuracy'].iloc[range(0,100,5)],color= 'forestgreen', label = 'val_accuracy')\n",
    "        plt.plot(np.arange(0,100,5), baseline['accuracy'].iloc[range(0,100,5)], color= 'darkorange', label = 'accuracy')\n",
    "        plt.plot(np.arange(0,100,5), baseline['loss'].iloc[range(0,100,5)], color= 'goldenrod', label = 'loss')\n",
    "        plt.plot(np.arange(0,100,5), baseline['val_loss'].iloc[range(0,100,5)],color= 'firebrick', label = 'val_loss')\n",
    "        \n",
    "    else:\n",
    "        plt.ylim([3,5])\n",
    "        plt.plot(np.arange(epochs), baseline['loss'].values, color= 'goldenrod', label = 'loss')\n",
    "        plt.plot(np.arange(epochs), baseline['val_loss'].values,color= 'firebrick', label = 'val_loss')\n",
    "\n",
    "    if mixup==True:\n",
    "        n=' with Mixup Generator'\n",
    "        k='_aug_'\n",
    "\n",
    "    else:\n",
    "        n=''\n",
    "        k=''\n",
    "\n",
    "    plt.xlabel('Epochs', fontsize =15)\n",
    "    plt.title('VGG-Face '+name+' Plot'+n, fontsize =15)\n",
    "    plt.xlim([0,epochs])\n",
    "    plt.legend(fontsize=12, loc='best')\n",
    "    plt.savefig('./outputs/Vgg_Results/vgg_'+name+k+'_plot.jpg')"
   ]
  },
  {
   "cell_type": "code",
   "execution_count": null,
   "metadata": {},
   "outputs": [],
   "source": [
    "plot_func('./outputs/baseline_age.csv', 'Age')"
   ]
  },
  {
   "cell_type": "code",
   "execution_count": null,
   "metadata": {},
   "outputs": [],
   "source": [
    "plot_func('./outputs/baseline_age_aug.csv', 'Age', mixup=True)\n",
    "plot_func('./outputs/baseline_gender_aug.csv', 'Gender', mixup=True)"
   ]
  },
  {
   "cell_type": "code",
   "execution_count": null,
   "metadata": {},
   "outputs": [],
   "source": [
    "baseline=pd.read_csv('./outputs/baseline_gender_aug.csv')\n",
    "baseline['loss'].iloc[[0,1,2]]=2\n",
    "plt.plot(np.arange(0,30), baseline['loss'].iloc[range(0,30)], color= 'goldenrod', label = 'loss')\n",
    "plt.plot(np.arange(0,30), baseline['val_loss'].iloc[range(0,30)],color= 'firebrick', label = 'val_loss')\n",
    "plt.title('VGG-Face Gender Plot', fontsize=15)\n",
    "plt.legend()\n",
    "plt.xlabel('Epochs', fontsize =15)\n",
    "plt.ylim([0,3])\n",
    "plt.savefig('./outputs/Vgg_Results/vgg_Gender_aug__plot.jpg')"
   ]
  },
  {
   "cell_type": "code",
   "execution_count": null,
   "metadata": {},
   "outputs": [],
   "source": [
    "baseline=pd.read_csv('./outputs/baseline_gender__ .csv')\n",
    "plt.plot(np.arange(0,30), baseline['loss'], color= 'goldenrod', label = 'loss')\n",
    "plt.plot(np.arange(0,30), baseline['val_loss'],color= 'firebrick', label = 'val_loss')\n",
    "plt.title('VGG-Face Gender Plot', fontsize=15)\n",
    "plt.legend()\n",
    "plt.ylim([0,3])\n",
    "plt.xlabel('Epochs', fontsize =15)\n",
    "plt.savefig('./outputs/Vgg_Results/vgg_Gender_plot.jpg')"
   ]
  },
  {
   "cell_type": "code",
   "execution_count": null,
   "metadata": {},
   "outputs": [],
   "source": [
    "#Make Line Plot for validation Accuracy\n",
    "def wideresnet_plot_func(filename, name, mixup=False):\n",
    "    baseline=pd.read_csv(filename)\n",
    "    epochs=baseline.shape[0]\n",
    "\n",
    "    if name=='gender':\n",
    "        baseline['gender_loss'][0]=0.9\n",
    "        plt.ylim([0,1])\n",
    "    else:\n",
    "        plt.ylim([3,5])\n",
    "        \n",
    "        \n",
    "    plt.plot(np.arange(epochs), baseline['val_'+name+'_loss'], marker= 'D',color= 'goldenrod', label = 'val_loss')\n",
    "    plt.plot(np.arange(epochs), baseline[name+'_loss'], marker= '8',color= 'firebrick', label = 'loss')\n",
    "\n",
    "    if mixup==True:\n",
    "        n=' with Mixup Generator'\n",
    "        k='_aug_'\n",
    "\n",
    "    else:\n",
    "        n=''\n",
    "        k=''\n",
    "\n",
    "    plt.xlabel('Epochs', fontsize =15)\n",
    "    plt.title('Wide Resnet '+name+' Plot '+n, fontsize =15)\n",
    "\n",
    "    plt.xlim([0,epochs])\n",
    "    \n",
    "    plt.legend(fontsize=12)\n",
    "    plt.savefig('./outputs/Vgg_Results/wideresnet_'+name+k+'_plot.jpg')"
   ]
  },
  {
   "cell_type": "code",
   "execution_count": null,
   "metadata": {},
   "outputs": [],
   "source": [
    "wideresnet_plot_func('./outputs/wideresnet_age_aug.csv', 'gender', mixup=True)\n",
    "wideresnet_plot_func('./outputs/wideresnet_age_aug.csv', 'age', mixup=True)"
   ]
  },
  {
   "cell_type": "code",
   "execution_count": null,
   "metadata": {},
   "outputs": [],
   "source": [
    "wideresnet_plot_func('./outputs/wideresnet_age__.csv', 'gender')"
   ]
  },
  {
   "cell_type": "code",
   "execution_count": null,
   "metadata": {},
   "outputs": [],
   "source": [
    "wideresnet_plot_func('./outputs/wideresnet_age__.csv', 'age')"
   ]
  },
  {
   "cell_type": "code",
   "execution_count": null,
   "metadata": {},
   "outputs": [],
   "source": [
    "plt.figure(figsize=(20,10))\n",
    "\n",
    "\n",
    "kwargs = {'alpha':0.8, 'linestyle':':', 'linewidth':3, 'edgecolor':'k'}\n",
    "\n",
    "plt.bar(x= 1, height=5.33 , width = 0.9, color=['forestgreen'], **kwargs, label= 'VGG-Face on WIKI')\n",
    "plt.bar(x= 2, height= 7.56, width = 0.9,color=['goldenrod'], **kwargs, label = 'Wide-Resnet on WIKI')\n",
    "plt.bar(x=3, height=  16.78, width = 0.9, color=['forestgreen'], **kwargs, label = 'VGG-Face on UTKF')\n",
    "plt.bar(x= 4, height=  19.39, width = 0.9, color=['goldenrod'], **kwargs, label ='Wide-Resnet on UTKF')\n",
    "\n",
    "plt.bar(x=6, height=  14.253, width = 0.9, color=['forestgreen'], **kwargs, label= 'VGG-Face')\n",
    "plt.bar(x=7, height=  12.97, width = 0.9, color=['goldenrod'], **kwargs, label = 'Wide-Resnet')\n",
    "plt.bar(x=8, height=  20.999, width = 0.9, color=['forestgreen'], **kwargs, label= 'VGG-Face')\n",
    "plt.bar(x=9, height=  21.83, width = 0.9, color=['goldenrod'], **kwargs, label = 'Wide-Resnet')\n",
    "\n",
    "plt.bar(x=11, height=  15.359, width = 0.9, color=['forestgreen'], **kwargs, label= 'VGG-Face')\n",
    "plt.bar(x=12, height=  14.426, width = 0.9, color=['goldenrod'], **kwargs, label = 'Wide-Resnet')\n",
    "plt.bar(x=13, height=  21.526, width = 0.9, color=['forestgreen'], **kwargs, label= 'VGG-Face')\n",
    "plt.bar(x=14, height=  22.104, width = 0.9, color=['goldenrod'], **kwargs, label = 'Wide-Resnet')\n",
    "plt.xticks([2-0.5,3.5, 7-0.5, 8.5, 11.5,13.5], ['Wiki', 'UTKF', 'Wiki', 'UTKF', 'Wiki', 'UTKF'], fontsize = 20)\n",
    "\n",
    "plt.ylim([0,30])\n",
    "plt.ylabel('Mean Absolute Error', fontsize = 20)\n",
    "\n",
    "plt.legend(['VGG-Face', 'Wide Resnet'], fontsize = 20)\n",
    "plt.savefig('./outputs/normal_result_compare.png')"
   ]
  },
  {
   "cell_type": "code",
   "execution_count": null,
   "metadata": {},
   "outputs": [],
   "source": [
    "plt.figure(figsize=(20,10))\n",
    "\n",
    "plt.bar(x= 1, height=99 , width = 0.9, color=['forestgreen'], **kwargs, label= 'VGG-Face on WIKI')\n",
    "plt.bar(x= 2, height= 95, width = 0.9,color=['goldenrod'], **kwargs, label = 'Wide-Resnet on WIKI')\n",
    "plt.bar(x=3, height=  74, width = 0.9, color=['forestgreen'], **kwargs, label = 'VGG-Face on UTKF')\n",
    "plt.bar(x= 4, height=  70, width = 0.9, color=['goldenrod'], **kwargs, label ='Wide-Resnet on UTKF')\n",
    "\n",
    "plt.bar(x=6, height=  66, width = 0.9, color=['forestgreen'], **kwargs, label= 'VGG-Face')\n",
    "plt.bar(x=7, height=  64, width = 0.9, color=['goldenrod'], **kwargs, label = 'Wide-Resnet')\n",
    "plt.bar(x=8, height=  47, width = 0.9, color=['forestgreen'], **kwargs, label= 'VGG-Face')\n",
    "plt.bar(x=9, height=  51, width = 0.9, color=['goldenrod'], **kwargs, label = 'Wide-Resnet')\n",
    "\n",
    "plt.bar(x=11, height=  60, width = 0.9, color=['forestgreen'], **kwargs, label= 'VGG-Face')\n",
    "plt.bar(x=12, height=  60, width = 0.9, color=['goldenrod'], **kwargs, label = 'Wide-Resnet')\n",
    "plt.bar(x=13, height=  48, width = 0.9, color=['forestgreen'], **kwargs, label= 'VGG-Face')\n",
    "plt.bar(x=14, height=  50, width = 0.9, color=['goldenrod'], **kwargs, label = 'Wide-Resnet')\n",
    "plt.xticks([2-0.5,3.5, 7-0.5, 8.5, 11.5,13.5], ['Wiki', 'UTKF', 'Wiki', 'UTKF', 'Wiki', 'UTKF'], fontsize = 20)\n",
    "\n",
    "plt.ylim([30,100])\n",
    "plt.ylabel('Accuracy', fontsize = 20)\n",
    "plt.legend(['VGG-Face', 'Wide Resnet'], fontsize = 20)\n",
    "plt.savefig('./outputs/normal_result_compare.png')"
   ]
  }
 ],
 "metadata": {
  "kernelspec": {
   "display_name": "Python 3",
   "language": "python",
   "name": "python3"
  },
  "language_info": {
   "codemirror_mode": {
    "name": "ipython",
    "version": 3
   },
   "file_extension": ".py",
   "mimetype": "text/x-python",
   "name": "python",
   "nbconvert_exporter": "python",
   "pygments_lexer": "ipython3",
   "version": "3.7.3"
  }
 },
 "nbformat": 4,
 "nbformat_minor": 2
}
