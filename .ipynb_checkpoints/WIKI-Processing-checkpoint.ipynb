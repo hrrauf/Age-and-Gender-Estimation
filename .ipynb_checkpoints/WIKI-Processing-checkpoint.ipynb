{
 "cells": [
  {
   "cell_type": "code",
   "execution_count": 9,
   "metadata": {},
   "outputs": [],
   "source": [
    "import scipy.io\n",
    "import pandas as pd\n",
    "\n",
    "from datetime import datetime, timedelta\n",
    "import matplotlib.pyplot as plt\n",
    "\n",
    "import ssl\n",
    "ssl._create_default_https_context = ssl._create_unverified_context\n",
    "import numpy as np\n",
    "import torch\n",
    "\n",
    "import pandas as pd\n",
    "\n",
    "import cv2 \n",
    "import numpy as np \n",
    "\n",
    "import os\n",
    "import random\n",
    "import pickle\n",
    "import keras.preprocessing.image as kimg"
   ]
  },
  {
   "cell_type": "code",
   "execution_count": 2,
   "metadata": {},
   "outputs": [],
   "source": [
    "pytorch_device = torch.device(\"cuda:0\" if torch.cuda.is_available() else \"cpu\")"
   ]
  },
  {
   "cell_type": "code",
   "execution_count": 3,
   "metadata": {},
   "outputs": [],
   "source": [
    "mat = scipy.io.loadmat('./data/wiki_crop/wiki.mat')"
   ]
  },
  {
   "cell_type": "code",
   "execution_count": 4,
   "metadata": {},
   "outputs": [],
   "source": [
    "\n",
    "instances = mat['wiki'][0][0][0].shape[1]\n",
    " \n",
    "columns = [\"dob\", \"photo_taken\", \"full_path\", \"gender\", \"name\", \"face_location\", \"face_score\", \"second_face_score\", 'date_of_birth']\n",
    " \n",
    "\n",
    "df = pd.DataFrame(index = range(0,instances), columns = columns)\n",
    "\n",
    "for i in mat:\n",
    "    if i == \"wiki\":\n",
    "        current_array = mat[i][0][0]\n",
    "    \n",
    "        for j in range(len(current_array)):\n",
    "            \n",
    "            df[columns[j]] = pd.DataFrame(current_array[j][0])"
   ]
  },
  {
   "cell_type": "code",
   "execution_count": 5,
   "metadata": {},
   "outputs": [],
   "source": [
    "def calculate_age(dob):\n",
    "    '''\n",
    "    Calculates age given\n",
    "    the date of birth.\n",
    "    \n",
    "    Parameter\n",
    "    ---------\n",
    "    dob : date of birth\n",
    "    '''\n",
    "    birth = datetime.fromordinal(max(int(dob) - 366, 1))\n",
    "    if birth.month < 7:\n",
    "        return birth.year\n",
    "    else:\n",
    "        return birth.year + 1\n",
    "\n",
    "df['date_of_birth'] = df['dob'].apply(calculate_age)"
   ]
  },
  {
   "cell_type": "code",
   "execution_count": 6,
   "metadata": {},
   "outputs": [
    {
     "data": {
      "text/plain": [
       "22138"
      ]
     },
     "execution_count": 6,
     "metadata": {},
     "output_type": "execute_result"
    }
   ],
   "source": [
    "#Data cleaning\n",
    "df=df[~df['date_of_birth'].isna()]\n",
    "#calculate age\n",
    "df['age']=df['photo_taken']-df['date_of_birth']\n",
    "df=df[~df['gender'].isna()]\n",
    "df=df[df['second_face_score'].isna()]\n",
    "df=df[df['face_score']>=3]\n",
    "df=df.drop(columns= [\"name\", \"face_location\", \"face_score\", \"second_face_score\",'date_of_birth' ])\n",
    "df=df[df['age']<=100]\n",
    "df=df[df['age']>0]\n",
    "\n",
    "df.shape[0]"
   ]
  },
  {
   "cell_type": "code",
   "execution_count": 8,
   "metadata": {},
   "outputs": [
    {
     "data": {
      "image/png": "[encoded data removed]",
      "text/plain": [
       "<Figure size 432x288 with 1 Axes>"
      ]
     },
     "metadata": {
      "needs_background": "light"
     },
     "output_type": "display_data"
    },
    {
     "data": {
      "image/png": "[encoded data removed]",
      "text/plain": [
       "<Figure size 432x288 with 1 Axes>"
      ]
     },
     "metadata": {
      "needs_background": "light"
     },
     "output_type": "display_data"
    }
   ],
   "source": [
    "hist_age=df['age'].hist(bins=df['age'].nunique())\n",
    "plt.show()\n",
    "hist_gender=df['gender'].hist(bins=df['gender'].nunique())"
   ]
  },
  {
   "cell_type": "code",
   "execution_count": null,
   "metadata": {},
   "outputs": [],
   "source": [
    "target_size = (224, 224)\n",
    "df=df.iloc[:10]\n",
    "def getImagePixels(image_path):\n",
    "    img = kimg.load_img(\"./data/wiki_crop/%s\" % image_path[0], grayscale=False, target_size=target_size)\n",
    "    x = kimg.img_to_array(img).reshape(1, -1)[0]\n",
    "\n",
    "    \n",
    "    return x"
   ]
  },
  {
   "cell_type": "code",
   "execution_count": null,
   "metadata": {},
   "outputs": [],
   "source": [
    "df['features'] = df['full_path'].apply(getImagePixels)"
   ]
  },
  {
   "cell_type": "code",
   "execution_count": 10,
   "metadata": {},
   "outputs": [],
   "source": [
    "f=torch.from_numpy(df['features'].values)\n",
    "f=f.view(df.shape[0],224,224,3)\n",
    "torch.save(f, \"features.pt\")"
   ]
  },
  {
   "cell_type": "code",
   "execution_count": 8,
   "metadata": {},
   "outputs": [],
   "source": [
    "classes=101\n",
    "target=torch.from_numpy(df['age'].values)\n",
    "torch.save(target, \"age.pt\")\n",
    "target_gen=torch.from_numpy(df['gender'].values)\n",
    "torch.save(target_gen, \"gender.pt\")\n",
    "del df"
   ]
  }
 ],
 "metadata": {
  "kernelspec": {
   "display_name": "Python 3",
   "language": "python",
   "name": "python3"
  },
  "language_info": {
   "codemirror_mode": {
    "name": "ipython",
    "version": 3
   },
   "file_extension": ".py",
   "mimetype": "text/x-python",
   "name": "python",
   "nbconvert_exporter": "python",
   "pygments_lexer": "ipython3",
   "version": "3.7.4"
  }
 },
 "nbformat": 4,
 "nbformat_minor": 4
}
