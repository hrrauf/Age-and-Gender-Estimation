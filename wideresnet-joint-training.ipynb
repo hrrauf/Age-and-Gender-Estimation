{
 "cells": [
  {
   "cell_type": "code",
   "execution_count": 1,
   "metadata": {},
   "outputs": [
    {
     "name": "stderr",
     "output_type": "stream",
     "text": [
      "Using TensorFlow backend.\n"
     ]
    }
   ],
   "source": [
    "import scipy.io\n",
    "import numpy as np\n",
    "import pandas as pd\n",
    "from datetime import datetime, timedelta\n",
    "import tensorflow as tf\n",
    "import keras\n",
    "from keras.preprocessing import image\n",
    "from keras.callbacks import ModelCheckpoint,EarlyStopping\n",
    "from keras.layers import Dense, Activation, Dropout, Flatten, Input, Convolution2D, ZeroPadding2D, MaxPooling2D, Activation\n",
    "from keras.layers import Conv2D, AveragePooling2D, Concatenate, Lambda\n",
    "from keras.models import Model, Sequential\n",
    "from sklearn.model_selection import train_test_split\n",
    "from keras import metrics\n",
    "from collections import defaultdict\n",
    "from keras.models import model_from_json\n",
    "import matplotlib.pyplot as plt\n",
    "import torch\n",
    "import cv2\n",
    "from keras.callbacks import LearningRateScheduler\n",
    "from keras.preprocessing.image import ImageDataGenerator\n",
    "from script.mixup_generator import MixupGenerator\n",
    "from script.random_eraser import get_random_eraser\n",
    "from sklearn.metrics import classification_report, confusion_matrix"
   ]
  },
  {
   "cell_type": "code",
   "execution_count": 2,
   "metadata": {},
   "outputs": [
    {
     "name": "stdout",
     "output_type": "stream",
     "text": [
      "number of output classes:  101\n"
     ]
    }
   ],
   "source": [
    "classes = 101 #(0, 100])\n",
    "print(\"number of output classes: \",classes)"
   ]
  },
  {
   "cell_type": "code",
   "execution_count": 3,
   "metadata": {},
   "outputs": [],
   "source": [
    "f=torch.load('./data/features.pt').numpy()\n",
    "target=torch.load('./data/age.pt').numpy()\n",
    "gender=torch.load('./data/gender.pt').numpy()"
   ]
  },
  {
   "cell_type": "code",
   "execution_count": 4,
   "metadata": {},
   "outputs": [],
   "source": [
    "features=np.concatenate([cv2.resize(img, (64,64))[None,:,:,:] for img in f], axis=0)"
   ]
  },
  {
   "cell_type": "code",
   "execution_count": 5,
   "metadata": {},
   "outputs": [],
   "source": [
    "features.shape\n",
    "del f"
   ]
  },
  {
   "cell_type": "code",
   "execution_count": 6,
   "metadata": {},
   "outputs": [
    {
     "data": {
      "text/plain": [
       "(10, 64, 64, 3)"
      ]
     },
     "execution_count": 6,
     "metadata": {},
     "output_type": "execute_result"
    }
   ],
   "source": [
    "features.shape"
   ]
  },
  {
   "cell_type": "code",
   "execution_count": 7,
   "metadata": {},
   "outputs": [],
   "source": [
    "gender_classes = keras.utils.to_categorical(gender, 2)"
   ]
  },
  {
   "cell_type": "code",
   "execution_count": 8,
   "metadata": {},
   "outputs": [
    {
     "name": "stdout",
     "output_type": "stream",
     "text": [
      "(10, 103)\n"
     ]
    }
   ],
   "source": [
    "target_classes = keras.utils.to_categorical(target, classes)\n",
    "outout=np.concatenate([gender_classes, target_classes], axis=1)\n",
    "print(outout.shape)"
   ]
  },
  {
   "cell_type": "code",
   "execution_count": 9,
   "metadata": {},
   "outputs": [],
   "source": [
    "train_x, test_x, train_y, test_y = train_test_split(features, outout, test_size=0.10)"
   ]
  },
  {
   "cell_type": "code",
   "execution_count": 10,
   "metadata": {},
   "outputs": [],
   "source": [
    "#delete extra data\n",
    "del features\n",
    "del target\n",
    "del gender\n",
    "del target_classes\n",
    "del gender_classes\n",
    "del outout"
   ]
  },
  {
   "cell_type": "code",
   "execution_count": 11,
   "metadata": {},
   "outputs": [],
   "source": [
    "train_g, train_a=train_y[:,:2],train_y[:,2:]\n",
    "test_g, test_a=test_y[:,:2],test_y[:,2:]"
   ]
  },
  {
   "cell_type": "code",
   "execution_count": 19,
   "metadata": {},
   "outputs": [],
   "source": [
    "from models.wide_resnet import WideResNet\n",
    "def gen_model(img_size,pretrained= False):\n",
    "\n",
    "    model=WideResNet(img_size, depth=16, k=8)()\n",
    "    \n",
    "    if pretrained==True:\n",
    "        \n",
    "        model.load_weights('./trained_models/weights.18-4.06.hdf5')\n",
    "        #model.load_weights('./trained_models/wideresnet_age__.h5')\n",
    "        \n",
    "    return model\n",
    "  "
   ]
  },
  {
   "cell_type": "code",
   "execution_count": 20,
   "metadata": {},
   "outputs": [],
   "source": [
    "wn=True\n",
    "aug=False\n",
    "baseline=False\n",
    "\n",
    "\n",
    "# epochs = 30\n",
    "epochs = 2\n",
    "batch_size = 32\n",
    "lr=1e-2\n",
    "size_train=train_x.shape[0]\n",
    "\n",
    "model=gen_model(64)\n",
    "\n",
    "if aug :\n",
    "    \n",
    "    datagen = ImageDataGenerator(\n",
    "            width_shift_range=0.1,\n",
    "            height_shift_range=0.1,\n",
    "            horizontal_flip=True,\n",
    "            preprocessing_function=get_random_eraser(v_l=0, v_h=255))\n",
    "\n",
    "    training_generator = MixupGenerator(train_x, [train_g, train_a], batch_size=batch_size, alpha=0.2,\n",
    "                                            datagen=datagen)()\n",
    "\n",
    "    "
   ]
  },
  {
   "cell_type": "code",
   "execution_count": 21,
   "metadata": {},
   "outputs": [],
   "source": [
    "class Schedule:\n",
    "\n",
    "    def __init__(self, nb_epochs, initial_lr=0.1):\n",
    "        self.epochs = nb_epochs\n",
    "        self.initial_lr = initial_lr\n",
    "\n",
    "    def __call__(self, epoch_idx):\n",
    "        if epoch_idx < self.epochs * 0.25:\n",
    "            return self.initial_lr\n",
    "        elif epoch_idx < self.epochs * 0.50:\n",
    "            return self.initial_lr * 0.2\n",
    "        elif epoch_idx < self.epochs * 0.75:\n",
    "            return self.initial_lr * 0.04\n",
    "\n",
    "        return self.initial_lr * 0.008\n",
    "\n",
    "callbacks = [LearningRateScheduler(schedule=Schedule(epochs, lr))]\n",
    "sgd = keras.optimizers.SGD(lr=lr,  momentum=0.9, nesterov=True)\n",
    "model.compile(loss=['categorical_crossentropy', 'categorical_crossentropy']\n",
    "                  , optimizer=sgd\n",
    "                  , metrics=['accuracy']\n",
    "                 )"
   ]
  },
  {
   "cell_type": "code",
   "execution_count": 22,
   "metadata": {
    "scrolled": false
   },
   "outputs": [
    {
     "name": "stdout",
     "output_type": "stream",
     "text": [
      "Train on 9 samples, validate on 1 samples\n",
      "Epoch 1/2\n",
      "9/9 [==============================] - 4s 420ms/step - loss: 10.3809 - pred_gender_loss: 0.9142 - pred_age_loss: 4.8615 - pred_gender_accuracy: 0.2222 - pred_age_accuracy: 0.0000e+00 - val_loss: 36432.4414 - val_pred_gender_loss: 32946.2539 - val_pred_age_loss: 3481.5798 - val_pred_gender_accuracy: 0.0000e+00 - val_pred_age_accuracy: 0.0000e+00\n",
      "Epoch 2/2\n",
      "9/9 [==============================] - 0s 8ms/step - loss: 96.7547 - pred_gender_loss: 71.6585 - pred_age_loss: 20.4890 - pred_gender_accuracy: 0.7778 - pred_age_accuracy: 0.2222 - val_loss: 43517.7383 - val_pred_gender_loss: 39208.6914 - val_pred_age_loss: 4304.4365 - val_pred_gender_accuracy: 0.0000e+00 - val_pred_age_accuracy: 0.0000e+00\n"
     ]
    },
    {
     "data": {
      "image/png": "[encoded data removed]",
      "text/plain": [
       "<Figure size 432x288 with 1 Axes>"
      ]
     },
     "metadata": {
      "needs_background": "light"
     },
     "output_type": "display_data"
    },
    {
     "data": {
      "image/png": "[encoded data removed]",
      "text/plain": [
       "<Figure size 432x288 with 1 Axes>"
      ]
     },
     "metadata": {
      "needs_background": "light"
     },
     "output_type": "display_data"
    },
    {
     "data": {
      "image/png": "[encoded data removed]",
      "text/plain": [
       "<Figure size 432x288 with 1 Axes>"
      ]
     },
     "metadata": {
      "needs_background": "light"
     },
     "output_type": "display_data"
    },
    {
     "data": {
      "image/png": "[encoded data removed]",
      "text/plain": [
       "<Figure size 432x288 with 1 Axes>"
      ]
     },
     "metadata": {
      "needs_background": "light"
     },
     "output_type": "display_data"
    }
   ],
   "source": [
    "enableFit = True\n",
    "#age_model=gen_model(101)\n",
    "if enableFit:\n",
    "    \n",
    "    if aug:\n",
    "        score = model.fit_generator(generator=training_generator,\n",
    "                                   steps_per_epoch=size_train // batch_size,\n",
    "                                   validation_data=(test_x, [test_g,test_a]),\n",
    "                                   epochs=epochs, verbose=1)\n",
    "\n",
    "        pd.DataFrame.from_dict(score.history).to_csv('./outputs/wideresnet_age_aug.csv')\n",
    "        \n",
    "        plt.plot(score.history['pred_gender_loss'], label='gender_loss')\n",
    "        plt.plot(score.history['val_pred_gender_loss'], label='val_gender_loss')\n",
    "        plt.legend(loc='best')   \n",
    "        plt.ylim([0,2])\n",
    "        plt.savefig('./outputs/wideresnet_aug_gender_loss.png')\n",
    "        plt.show()\n",
    "\n",
    "\n",
    "        plt.figure()\n",
    "        plt.plot(score.history['pred_age_loss'], label='age_loss')\n",
    "        plt.plot(score.history['val_pred_age_loss'], label='val_age_loss')\n",
    "\n",
    "        plt.legend(loc='best') \n",
    "        plt.ylim([3,7])\n",
    "        plt.savefig('./outputs/wideresnet_aug_age_loss.png')\n",
    "\n",
    "        plt.show()\n",
    "        plt.plot(score.history['pred_gender_accuracy'], label='gender_acc')\n",
    "        plt.plot(score.history['val_pred_gender_accuracy'], label='val_gender_acc')\n",
    "        plt.legend(loc='best')   \n",
    "        plt.savefig('./outputs/wideresnet_aug_gender_acc.png')\n",
    "        plt.show()\n",
    "        plt.figure()\n",
    "\n",
    "        plt.plot(score.history['pred_age_accuracy'], label='age_acc')\n",
    "        plt.plot(score.history['val_pred_age_accuracy'], label='val_age_acc')\n",
    "        plt.legend(loc='best')   \n",
    "        plt.savefig('./outputs/wideresnet_aug_age_acc.png')\n",
    "        plt.ylim([0,0.2])\n",
    "        plt.show()\n",
    "\n",
    "    else:\n",
    "        score = model.fit(train_x, [train_g, train_a], epochs=epochs, batch_size=batch_size, validation_data=(test_x, [test_g,test_a])\n",
    "                             , callbacks=callbacks)\n",
    "            \n",
    "        modelname='_'\n",
    "        pd.DataFrame.from_dict(score.history).to_csv('./outputs/wideresnet_age_'+modelname+'.csv')\n",
    "        plt.plot(score.history['pred_gender_loss'], label='gender_loss')\n",
    "        plt.plot(score.history['val_pred_gender_loss'], label='val_gender_loss')\n",
    "        plt.legend(loc='best')   \n",
    "        plt.ylim([0,2])\n",
    "        plt.savefig('./outputs/wideresnet_aug_gender_loss.png')\n",
    "        plt.show()\n",
    "\n",
    "\n",
    "        plt.figure()\n",
    "        plt.plot(score.history['pred_age_loss'], label='age_loss')\n",
    "        plt.plot(score.history['val_pred_age_loss'], label='val_age_loss')\n",
    "\n",
    "        plt.legend(loc='best') \n",
    "        plt.ylim([3,7])\n",
    "        plt.savefig('./outputs/wideresnet_aug_age_loss.png')\n",
    "\n",
    "        plt.show()\n",
    "        plt.plot(score.history['pred_gender_accuracy'], label='gender_acc')\n",
    "        plt.plot(score.history['val_pred_gender_accuracy'], label='val_gender_acc')\n",
    "        plt.legend(loc='best')   \n",
    "        plt.savefig('./outputs/wideresnet_aug_gender_acc.png')\n",
    "        plt.show()\n",
    "        plt.figure()\n",
    "\n",
    "        plt.plot(score.history['pred_age_accuracy'], label='age_acc')\n",
    "        plt.plot(score.history['val_pred_age_accuracy'], label='val_age_acc')\n",
    "        plt.legend(loc='best')   \n",
    "        plt.savefig('./outputs/wideresnet_aug_age_acc.png')\n",
    "        plt.ylim([0,0.2])\n",
    "        plt.show()\n",
    "\n",
    "else:\n",
    "    age_model.load_weights(\"./trained_models/age_model_weights.h5\")"
   ]
  },
  {
   "cell_type": "markdown",
   "metadata": {},
   "source": [
    "# Model evaluation on test set"
   ]
  },
  {
   "cell_type": "code",
   "execution_count": 23,
   "metadata": {},
   "outputs": [],
   "source": [
    "predictions = model.predict(test_x)\n",
    "gender_predictions=predictions[0]\n",
    "age_predictions=predictions[1]"
   ]
  },
  {
   "cell_type": "code",
   "execution_count": 24,
   "metadata": {},
   "outputs": [],
   "source": [
    "output_indexes = np.array([i for i in range(0, 101)])\n",
    "apparent_predictions = np.sum(age_predictions * output_indexes, axis = 1)"
   ]
  },
  {
   "cell_type": "code",
   "execution_count": 25,
   "metadata": {},
   "outputs": [
    {
     "name": "stdout",
     "output_type": "stream",
     "text": [
      "mae:  13.0\n",
      "instances:  1\n"
     ]
    }
   ],
   "source": [
    "mae = 0\n",
    "\n",
    "actual_mean = 0\n",
    "for i in range(0 ,apparent_predictions.shape[0]):\n",
    "    prediction = int(apparent_predictions[i])\n",
    "    actual = np.argmax(test_a[i])\n",
    "    \n",
    "    abs_error = abs(prediction - actual)\n",
    "    actual_mean = actual_mean + actual\n",
    "    \n",
    "    mae = mae + abs_error\n",
    "    \n",
    "mae = mae / apparent_predictions.shape[0]\n",
    "\n",
    "print(\"mae: \",mae)\n",
    "print(\"instances: \",apparent_predictions.shape[0])"
   ]
  },
  {
   "cell_type": "code",
   "execution_count": 26,
   "metadata": {},
   "outputs": [
    {
     "name": "stderr",
     "output_type": "stream",
     "text": [
      "/opt/conda/lib/python3.7/site-packages/sklearn/metrics/classification.py:1437: UndefinedMetricWarning: Precision and F-score are ill-defined and being set to 0.0 in labels with no predicted samples.\n",
      "  'precision', 'predicted', average, warn_for)\n",
      "/opt/conda/lib/python3.7/site-packages/sklearn/metrics/classification.py:1439: UndefinedMetricWarning: Recall and F-score are ill-defined and being set to 0.0 in labels with no true samples.\n",
      "  'recall', 'true', average, warn_for)\n"
     ]
    },
    {
     "data": {
      "text/plain": [
       "'              precision    recall  f1-score   support\\n\\n           0       0.00      0.00      0.00       1.0\\n           1       0.00      0.00      0.00       0.0\\n\\n    accuracy                           0.00       1.0\\n   macro avg       0.00      0.00      0.00       1.0\\nweighted avg       0.00      0.00      0.00       1.0\\n'"
      ]
     },
     "execution_count": 26,
     "metadata": {},
     "output_type": "execute_result"
    }
   ],
   "source": [
    "pred_list = []; actual_list = []\n",
    "\n",
    "for i in gender_predictions:\n",
    "    pred_list.append(np.argmax(i))\n",
    "\n",
    "for i in test_g: \n",
    "    actual_list.append(np.argmax(i))\n",
    "\n",
    "cmt=confusion_matrix(actual_list, pred_list)\n",
    "classification_report(actual_list, pred_list)"
   ]
  }
 ],
 "metadata": {
  "kernelspec": {
   "display_name": "Python 3",
   "language": "python",
   "name": "python3"
  },
  "language_info": {
   "codemirror_mode": {
    "name": "ipython",
    "version": 3
   },
   "file_extension": ".py",
   "mimetype": "text/x-python",
   "name": "python",
   "nbconvert_exporter": "python",
   "pygments_lexer": "ipython3",
   "version": "3.7.3"
  }
 },
 "nbformat": 4,
 "nbformat_minor": 2
}
