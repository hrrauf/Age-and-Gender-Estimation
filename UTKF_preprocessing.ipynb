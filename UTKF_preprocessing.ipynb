{
 "cells": [
  {
   "cell_type": "code",
   "execution_count": null,
   "metadata": {},
   "outputs": [],
   "source": [
    "from pathlib import Path\n",
    "import cv2\n",
    "import dlib\n",
    "import numpy as np\n",
    "import argparse\n",
    "from contextlib import contextmanager\n",
    "from keras.utils.data_utils import get_file\n",
    "from wide_resnet import WideResNet\n",
    "from VGG_16  import VGG_16\n",
    "import numpy as np\n",
    "import pandas as pd\n",
    "\n",
    "\n",
    "from keras.preprocessing import image\n",
    "from keras.callbacks import ModelCheckpoint,EarlyStopping\n",
    "from keras.layers import Dense, Activation, Dropout, Flatten, Input, Convolution2D, ZeroPadding2D, MaxPooling2D, Activation\n",
    "from keras.layers import Conv2D, AveragePooling2D, Concatenate, Lambda\n",
    "from keras.models import Model, Sequential\n",
    "\n",
    "from keras import metrics\n",
    "\n",
    "import matplotlib.pyplot as plt\n",
    "import torch\n",
    "import tensorflow as tf\n",
    "\n",
    "import keras\n",
    "from keras.preprocessing import image\n",
    "\n",
    "import matplotlib.pyplot as plt\n",
    "import torch\n",
    "\n",
    "from contextlib import contextmanager\n",
    "from keras.utils.vis_utils import plot_model\n",
    "from keras.preprocessing.image import load_img, img_to_array\n",
    "\n",
    "import numpy as np\n",
    "import cv2"
   ]
  },
  {
   "cell_type": "code",
   "execution_count": null,
   "metadata": {},
   "outputs": [],
   "source": [
    "path = \"./data/crop_part1/\"\n",
    "files = os.listdir(path)\n",
    "size = len(files)\n",
    "test_size=1000\n",
    "images = []\n",
    "ages = []\n",
    "genders = []\n",
    "for i, file in enumerate(files):\n",
    "    split_var = file.split('_')\n",
    "    if int(split_var[1])==3:\n",
    "        continue\n",
    "    if i == test_size:\n",
    "        break\n",
    "    image = cv2.imread(path+file)\n",
    "\n",
    "    image = cv2.resize(image,dsize=(img_size,img_size))\n",
    "    image = image.reshape((image.shape[0],image.shape[1],3))\n",
    "    images.append(image)\n",
    "    split_var = file.split('_')\n",
    "    ages.append(split_var[0])\n",
    "    genders.append(int(split_var[1]) )\n",
    "\n",
    "\n",
    "test_x=np.array(images)\n",
    "ages=ages\n",
    "genders= genders"
   ]
  }
 ],
 "metadata": {
  "kernelspec": {
   "display_name": "Python 3",
   "language": "python",
   "name": "python3"
  },
  "language_info": {
   "codemirror_mode": {
    "name": "ipython",
    "version": 3
   },
   "file_extension": ".py",
   "mimetype": "text/x-python",
   "name": "python",
   "nbconvert_exporter": "python",
   "pygments_lexer": "ipython3",
   "version": "3.7.4"
  }
 },
 "nbformat": 4,
 "nbformat_minor": 4
}
